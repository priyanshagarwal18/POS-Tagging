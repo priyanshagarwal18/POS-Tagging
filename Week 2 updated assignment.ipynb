{
 "cells": [
  {
   "cell_type": "code",
   "execution_count": 1,
   "metadata": {},
   "outputs": [],
   "source": [
    "import os\n",
    "import glob"
   ]
  },
  {
   "cell_type": "code",
   "execution_count": 3,
   "metadata": {},
   "outputs": [],
   "source": [
    "train_word_output_filename=\"train word count.txt\"\n",
    "train_tag_output_filename=\"train tag count.txt\"\n",
    "test_word_output_filename=\"test word count.txt\"\n",
    "test_tag_output_filename=\"test tag count.txt\"\n",
    "train_filename=\"train_output.txt\"\n",
    "test_filename=\"test_output.txt\""
   ]
  },
  {
   "cell_type": "code",
   "execution_count": 4,
   "metadata": {},
   "outputs": [],
   "source": [
    "train_word_dict={}\n",
    "train_tag_dict={}\n",
    "test_word_dict={}\n",
    "test_tag_dict={}\n"
   ]
  },
  {
   "cell_type": "code",
   "execution_count": 5,
   "metadata": {},
   "outputs": [],
   "source": [
    "def check_frequency(word_dictionary,tag_dictionary,input_filename,word_output_filename,tag_output_filename):\n",
    "    word_writer=open(word_output_filename,'w')\n",
    "    tag_writer=open(tag_output_filename,'w')\n",
    "    reader=open(input_filename,'r')\n",
    "    text_String = reader.read().splitlines()\n",
    "    for fullword in text_String:\n",
    "        word,tag=fullword.split(\"_\",1)\n",
    "        tag=tag.split(\"-\")\n",
    "        if len(tag)==2:\n",
    "            if word in word_dictionary:\n",
    "                word_dictionary[word]+=2\n",
    "            else:\n",
    "                word_dictionary[word]=2\n",
    "        else:\n",
    "            if word in word_dictionary:\n",
    "                word_dictionary[word]+=1\n",
    "            else:\n",
    "                word_dictionary[word]=1\n",
    "                \n",
    "        for t in tag:\n",
    "            if t in tag_dictionary:\n",
    "                tag_dictionary[t]+=1\n",
    "            else:\n",
    "                tag_dictionary[t]=1\n",
    "    for key in tag_dictionary.keys():\n",
    "        tag_writer.write(\"%s : %s\\n\" %(key, tag_dictionary[key]))\n",
    "    for key in word_dictionary.keys():\n",
    "        word_writer.write(\"%s : %s\\n\" %(key,word_dictionary[key]))\n",
    "    tag_writer.close()\n",
    "    word_writer.close()\n",
    "    reader.close()"
   ]
  },
  {
   "cell_type": "code",
   "execution_count": 6,
   "metadata": {},
   "outputs": [],
   "source": [
    "check_frequency(train_word_dict,train_tag_dict,train_filename,train_word_output_filename,train_tag_output_filename)"
   ]
  },
  {
   "cell_type": "code",
   "execution_count": 11,
   "metadata": {},
   "outputs": [],
   "source": [
    "check_frequency(test_word_dict,test_tag_dict,test_filename,test_word_output_filename,test_tag_output_filename)"
   ]
  },
  {
   "cell_type": "code",
   "execution_count": 7,
   "metadata": {},
   "outputs": [],
   "source": [
    "def check_frequency_case_insensitive(word_dictionary,tag_dictionary,input_filename,word_output_filename,tag_output_filename):\n",
    "    word_writer=open(word_output_filename,'w')\n",
    "    tag_writer=open(tag_output_filename,'w')\n",
    "    reader=open(input_filename,'r')\n",
    "    text_String = reader.read().splitlines()\n",
    "    for fullword in text_String:\n",
    "        word,tag=fullword.split(\"_\",1)\n",
    "        word=word.lower()\n",
    "        tag=tag.split(\"-\")\n",
    "        if len(tag)==2:\n",
    "            if word in word_dictionary:\n",
    "                word_dictionary[word]+=2\n",
    "            else:\n",
    "                word_dictionary[word]=2\n",
    "        else:\n",
    "            if word in word_dictionary:\n",
    "                word_dictionary[word]+=1\n",
    "            else:\n",
    "                word_dictionary[word]=1\n",
    "                \n",
    "        for t in tag:\n",
    "            if t in tag_dictionary:\n",
    "                tag_dictionary[t]+=1\n",
    "            else:\n",
    "                tag_dictionary[t]=1\n",
    "    for key in tag_dictionary.keys():\n",
    "        tag_writer.write(\"%s : %s\\n\" %(key, tag_dictionary[key]))\n",
    "    for key in word_dictionary.keys():\n",
    "        word_writer.write(\"%s : %s\\n\" %(key,word_dictionary[key]))\n",
    "    tag_writer.close()\n",
    "    word_writer.close()\n",
    "    reader.close()"
   ]
  },
  {
   "cell_type": "code",
   "execution_count": 9,
   "metadata": {},
   "outputs": [],
   "source": [
    "train_word_output_filename_ci=\"train word count case insensitive.txt\"\n",
    "train_tag_output_filename_ci=\"train tag count case insensitive.txt\"\n",
    "test_word_output_filename_ci=\"test word count case insensitive.txt\"\n",
    "test_tag_output_filename_ci=\"test tag count case insensitive.txt\"\n",
    "train_filename=\"train_output.txt\"\n",
    "test_filename=\"test_output.txt\"\n",
    "\n",
    "train_word_dict_ci={}\n",
    "train_tag_dict_ci={}\n",
    "test_word_dict_ci={}\n",
    "test_tag_dict_ci={}\n"
   ]
  },
  {
   "cell_type": "code",
   "execution_count": 10,
   "metadata": {},
   "outputs": [],
   "source": [
    "check_frequency_case_insensitive(train_word_dict_ci,train_tag_dict_ci,train_filename,train_word_output_filename_ci,train_tag_output_filename_ci)"
   ]
  },
  {
   "cell_type": "code",
   "execution_count": 12,
   "metadata": {},
   "outputs": [],
   "source": [
    "check_frequency_case_insensitive(test_word_dict_ci,test_tag_dict_ci,test_filename,test_word_output_filename_ci,test_tag_output_filename_ci)"
   ]
  },
  {
   "cell_type": "code",
   "execution_count": null,
   "metadata": {},
   "outputs": [],
   "source": []
  }
 ],
 "metadata": {
  "kernelspec": {
   "display_name": "Python 3",
   "language": "python",
   "name": "python3"
  },
  "language_info": {
   "codemirror_mode": {
    "name": "ipython",
    "version": 3
   },
   "file_extension": ".py",
   "mimetype": "text/x-python",
   "name": "python",
   "nbconvert_exporter": "python",
   "pygments_lexer": "ipython3",
   "version": "3.7.7"
  }
 },
 "nbformat": 4,
 "nbformat_minor": 4
}

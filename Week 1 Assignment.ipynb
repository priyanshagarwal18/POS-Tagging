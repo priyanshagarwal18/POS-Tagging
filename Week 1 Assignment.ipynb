{
 "cells": [
  {
   "cell_type": "code",
   "execution_count": 1,
   "metadata": {},
   "outputs": [],
   "source": [
    "from bs4 import BeautifulSoup\n",
    "import os\n",
    "import glob"
   ]
  },
  {
   "cell_type": "code",
   "execution_count": 44,
   "metadata": {},
   "outputs": [
    {
     "name": "stdout",
     "output_type": "stream",
     "text": [
      "520\n"
     ]
    }
   ],
   "source": [
    "path=\"Train-corups/*/*\"\n",
    "filenames=glob.glob(path)\n",
    "print(len(filenames))"
   ]
  },
  {
   "cell_type": "code",
   "execution_count": 40,
   "metadata": {},
   "outputs": [],
   "source": [
    "output_file_name=\"train_output.txt\"\n",
    "writer=open(output_file_name,'w')"
   ]
  },
  {
   "cell_type": "code",
   "execution_count": null,
   "metadata": {},
   "outputs": [],
   "source": [
    "for filename in filenames:\n",
    "    print(filename)\n",
    "    with open(filename,encoding=\"ascii\", errors=\"surrogateescape\") as fp:\n",
    "        soup = BeautifulSoup(fp, \"lxml-xml\")\n",
    "    table=soup.find_all('w')\n",
    "    for r in table:\n",
    "        writer.write(r.get_text(strip=True)+\"_\"+r.get('c5')+\"\\n\")\n",
    "writer.close()"
   ]
  },
  {
   "cell_type": "code",
   "execution_count": 46,
   "metadata": {},
   "outputs": [
    {
     "name": "stdout",
     "output_type": "stream",
     "text": [
      "115\n"
     ]
    }
   ],
   "source": [
    "path=\"Test-corpus/*/*\"\n",
    "filenames=glob.glob(path)\n",
    "print(len(filenames))"
   ]
  },
  {
   "cell_type": "code",
   "execution_count": 47,
   "metadata": {},
   "outputs": [],
   "source": [
    "output_file_name=\"test_output.txt\"\n",
    "writer=open(output_file_name,'w')"
   ]
  },
  {
   "cell_type": "code",
   "execution_count": null,
   "metadata": {},
   "outputs": [
    {
     "name": "stdout",
     "output_type": "stream",
     "text": [
      "Test-corpus\\AN\\AN0.xml\n",
      "Test-corpus\\AN\\AN1.xml\n",
      "Test-corpus\\AN\\AN2.xml\n",
      "Test-corpus\\AN\\AN3.xml\n",
      "Test-corpus\\AN\\AN4.xml\n",
      "Test-corpus\\AN\\AN5.xml\n",
      "Test-corpus\\AN\\AN7.xml\n",
      "Test-corpus\\AN\\AN8.xml\n",
      "Test-corpus\\AN\\AN9.xml\n",
      "Test-corpus\\AN\\ANA.xml\n",
      "Test-corpus\\AN\\ANB.xml\n",
      "Test-corpus\\AN\\ANC.xml\n",
      "Test-corpus\\AN\\AND.xml\n",
      "Test-corpus\\AN\\ANF.xml\n",
      "Test-corpus\\AN\\ANH.xml\n",
      "Test-corpus\\AN\\ANJ.xml\n",
      "Test-corpus\\AN\\ANK.xml\n",
      "Test-corpus\\AN\\ANL.xml\n",
      "Test-corpus\\AN\\ANM.xml\n",
      "Test-corpus\\AN\\ANP.xml\n",
      "Test-corpus\\AN\\ANR.xml\n",
      "Test-corpus\\AN\\ANS.xml\n",
      "Test-corpus\\AN\\ANT.xml\n",
      "Test-corpus\\AN\\ANU.xml\n",
      "Test-corpus\\AN\\ANX.xml\n",
      "Test-corpus\\AN\\ANY.xml\n",
      "Test-corpus\\AP\\AP0.xml\n",
      "Test-corpus\\AP\\AP1.xml\n",
      "Test-corpus\\AP\\AP5.xml\n",
      "Test-corpus\\AP\\AP6.xml\n",
      "Test-corpus\\AP\\AP7.xml\n",
      "Test-corpus\\AP\\AP8.xml\n",
      "Test-corpus\\AP\\APC.xml\n",
      "Test-corpus\\AP\\APD.xml\n",
      "Test-corpus\\AP\\APE.xml\n",
      "Test-corpus\\AP\\APH.xml\n",
      "Test-corpus\\AP\\APJ.xml\n",
      "Test-corpus\\AP\\APK.xml\n",
      "Test-corpus\\AP\\APL.xml\n",
      "Test-corpus\\AP\\APM.xml\n",
      "Test-corpus\\AP\\APN.xml\n",
      "Test-corpus\\AP\\APP.xml\n",
      "Test-corpus\\AP\\APR.xml\n",
      "Test-corpus\\AP\\APS.xml\n",
      "Test-corpus\\AP\\APT.xml\n",
      "Test-corpus\\AP\\APU.xml\n",
      "Test-corpus\\AP\\APV.xml\n",
      "Test-corpus\\AP\\APW.xml\n",
      "Test-corpus\\AP\\APX.xml\n",
      "Test-corpus\\AR\\AR0.xml\n",
      "Test-corpus\\AR\\AR2.xml\n",
      "Test-corpus\\AR\\AR3.xml\n",
      "Test-corpus\\AR\\AR4.xml\n",
      "Test-corpus\\AR\\AR5.xml\n",
      "Test-corpus\\AR\\AR7.xml\n",
      "Test-corpus\\AR\\AR8.xml\n",
      "Test-corpus\\AR\\AR9.xml\n",
      "Test-corpus\\AR\\ARA.xml\n",
      "Test-corpus\\AR\\ARB.xml\n",
      "Test-corpus\\AR\\ARC.xml\n",
      "Test-corpus\\AR\\ARD.xml\n",
      "Test-corpus\\AR\\ARE.xml\n",
      "Test-corpus\\AR\\ARF.xml\n",
      "Test-corpus\\AR\\ARG.xml\n",
      "Test-corpus\\AR\\ARH.xml\n",
      "Test-corpus\\AR\\ARJ.xml\n",
      "Test-corpus\\AR\\ARK.xml\n",
      "Test-corpus\\AR\\ARM.xml\n",
      "Test-corpus\\AR\\ARP.xml\n",
      "Test-corpus\\AR\\ARR.xml\n",
      "Test-corpus\\AR\\ARS.xml\n",
      "Test-corpus\\AR\\ART.xml\n",
      "Test-corpus\\AR\\ARW.xml\n",
      "Test-corpus\\AR\\ARX.xml\n",
      "Test-corpus\\AR\\ARY.xml\n",
      "Test-corpus\\AS\\AS0.xml\n"
     ]
    }
   ],
   "source": [
    "for filename in filenames:\n",
    "    print(filename)\n",
    "    with open(filename,encoding=\"ascii\", errors=\"surrogateescape\") as fp:\n",
    "        soup = BeautifulSoup(fp, \"lxml-xml\")\n",
    "    table=soup.find_all('w')\n",
    "    for r in table:\n",
    "        writer.write(r.get_text(strip=True)+\"_\"+r.get('c5')+\"\\n\")\n",
    "writer.close()"
   ]
  },
  {
   "cell_type": "code",
   "execution_count": 43,
   "metadata": {},
   "outputs": [],
   "source": [
    "writer.close()"
   ]
  },
  {
   "cell_type": "code",
   "execution_count": 19,
   "metadata": {},
   "outputs": [
    {
     "name": "stdout",
     "output_type": "stream",
     "text": [
      "NEWS\n"
     ]
    }
   ],
   "source": []
  },
  {
   "cell_type": "code",
   "execution_count": 22,
   "metadata": {},
   "outputs": [
    {
     "name": "stdout",
     "output_type": "stream",
     "text": [
      "NN1\n"
     ]
    }
   ],
   "source": []
  },
  {
   "cell_type": "code",
   "execution_count": 2,
   "metadata": {},
   "outputs": [
    {
     "name": "stdout",
     "output_type": "stream",
     "text": [
      "520\n"
     ]
    }
   ],
   "source": []
  },
  {
   "cell_type": "code",
   "execution_count": null,
   "metadata": {},
   "outputs": [],
   "source": []
  },
  {
   "cell_type": "code",
   "execution_count": null,
   "metadata": {},
   "outputs": [],
   "source": []
  },
  {
   "cell_type": "code",
   "execution_count": null,
   "metadata": {},
   "outputs": [],
   "source": []
  },
  {
   "cell_type": "code",
   "execution_count": null,
   "metadata": {},
   "outputs": [],
   "source": []
  },
  {
   "cell_type": "code",
   "execution_count": null,
   "metadata": {},
   "outputs": [],
   "source": []
  },
  {
   "cell_type": "code",
   "execution_count": null,
   "metadata": {},
   "outputs": [],
   "source": []
  },
  {
   "cell_type": "code",
   "execution_count": null,
   "metadata": {},
   "outputs": [],
   "source": []
  },
  {
   "cell_type": "code",
   "execution_count": null,
   "metadata": {},
   "outputs": [],
   "source": []
  },
  {
   "cell_type": "code",
   "execution_count": null,
   "metadata": {},
   "outputs": [],
   "source": []
  }
 ],
 "metadata": {
  "kernelspec": {
   "display_name": "Python 3",
   "language": "python",
   "name": "python3"
  },
  "language_info": {
   "codemirror_mode": {
    "name": "ipython",
    "version": 3
   },
   "file_extension": ".py",
   "mimetype": "text/x-python",
   "name": "python",
   "nbconvert_exporter": "python",
   "pygments_lexer": "ipython3",
   "version": "3.7.7"
  }
 },
 "nbformat": 4,
 "nbformat_minor": 4
}
